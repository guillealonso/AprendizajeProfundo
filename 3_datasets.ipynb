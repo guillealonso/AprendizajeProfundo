{
  "cells": [
    {
      "cell_type": "markdown",
      "metadata": {
        "id": "ozEXg5-JXq5P"
      },
      "source": [
        "# Manejo de Datos en PyTorch"
      ]
    },
    {
      "cell_type": "markdown",
      "metadata": {
        "id": "k2YNwqRVXq5Z"
      },
      "source": [
        "## Librerías"
      ]
    },
    {
      "cell_type": "code",
      "execution_count": 7,
      "metadata": {
        "id": "TK53crLaXq5b"
      },
      "outputs": [],
      "source": [
        "import csv\n",
        "import functools\n",
        "import gzip\n",
        "import numpy as np\n",
        "import pandas as pd\n",
        "import torch\n",
        "import tempfile\n",
        "\n",
        "from gensim.models import KeyedVectors\n",
        "from gensim.parsing import preprocessing\n",
        "from torch.utils.data import Dataset, DataLoader, IterableDataset"
      ]
    },
    {
      "cell_type": "markdown",
      "metadata": {
        "id": "3JW_ku3fXq5f"
      },
      "source": [
        "## La clase Dataset\n",
        "\n",
        "La clase abstracta [`torch.utils.data.Dataset`](https://pytorch.org/docs/stable/data.html#torch.utils.data.Dataset) es la clase base para construir un dataset de PyTorch. Cualquier dataset personalizado debe heredar de dicha clase e implementar los siguientes métodos:\n",
        "\n",
        "- `__len__`: Para que `len(dataset)` devuelva el tamaño del conjunto de datos.\n",
        "- `__getitem__`: Para soportar indexado de manera que `dataset[i]` devuelva el elemento `i`. Es común que en ciertos casos se utilice este método para levantar el dato real (e.g. una imagen) mientras que lo que se guarde en el dataset sea sólo una referencia a dicho dato (e.g. un path a la imagen). De esta manera se evita cargar muchas imágenes en memoria, haciendo que sea menos demandante a nivel RAM."
      ]
    },
    {
      "cell_type": "code",
      "source": [
        "from google.colab import drive \n",
        "drive.mount('/content/drive')"
      ],
      "metadata": {
        "id": "d1pian3yX4Dx",
        "outputId": "c8d2ca29-6da2-4da5-b58a-cc0d03fd8ea0",
        "colab": {
          "base_uri": "https://localhost:8080/"
        }
      },
      "execution_count": 8,
      "outputs": [
        {
          "output_type": "stream",
          "name": "stdout",
          "text": [
            "Mounted at /content/drive\n"
          ]
        }
      ]
    },
    {
      "cell_type": "code",
      "execution_count": 9,
      "metadata": {
        "id": "4RVdhxHRXq5h",
        "outputId": "94c60024-7693-4e6b-8dbd-2967f23ff275",
        "colab": {
          "base_uri": "https://localhost:8080/"
        }
      },
      "outputs": [
        {
          "output_type": "stream",
          "name": "stdout",
          "text": [
            "Dataset loaded with 50000 elements\n",
            "Sample element:\n",
            "{'data': \"One of the other reviewers has mentioned that after watching just 1 Oz episode you'll be hooked. They are right, as this is exactly what happened with me.<br /><br />The first thing that struck me about Oz was its brutality and unflinching scenes of violence, which set in right from the word GO. Trust me, this is not a show for the faint hearted or timid. This show pulls no punches with regards to drugs, sex or violence. Its is hardcore, in the classic use of the word.<br /><br />It is called OZ as that is the nickname given to the Oswald Maximum Security State Penitentary. It focuses mainly on Emerald City, an experimental section of the prison where all the cells have glass fronts and face inwards, so privacy is not high on the agenda. Em City is home to many..Aryans, Muslims, gangstas, Latinos, Christians, Italians, Irish and more....so scuffles, death stares, dodgy dealings and shady agreements are never far away.<br /><br />I would say the main appeal of the show is due to the fact that it goes where other shows wouldn't dare. Forget pretty pictures painted for mainstream audiences, forget charm, forget romance...OZ doesn't mess around. The first episode I ever saw struck me as so nasty it was surreal, I couldn't say I was ready for it, but as I watched more, I developed a taste for Oz, and got accustomed to the high levels of graphic violence. Not just violence, but injustice (crooked guards who'll be sold out for a nickel, inmates who'll kill on order and get away with it, well mannered, middle class inmates being turned into prison bitches due to their lack of street skills or prison experience) Watching Oz, you may become comfortable with what is uncomfortable viewing....thats if you can get in touch with your darker side.\", 'target': 'positive'}\n"
          ]
        }
      ],
      "source": [
        "class IMDBReviewsDataset(Dataset):\n",
        "    def __init__(self, path, transform=None):\n",
        "        self.dataset = pd.read_csv(path)\n",
        "        self.transform = transform\n",
        "    \n",
        "    def __len__(self):\n",
        "        return self.dataset.shape[0]\n",
        "\n",
        "    def __getitem__(self, item):\n",
        "        if torch.is_tensor(item):\n",
        "            item = item.tolist()  # Deal with list of items instead of tensor\n",
        "        \n",
        "        item = {\n",
        "            \"data\": self.dataset.iloc[item][\"review\"],\n",
        "            \"target\": self.dataset.iloc[item][\"sentiment\"]\n",
        "        }\n",
        "\n",
        "        if self.transform:\n",
        "            item = self.transform(item)\n",
        "        \n",
        "        return item\n",
        "\n",
        "dataset = IMDBReviewsDataset(\"/content/drive/MyDrive/DIPLO_DATOS/imdb_reviews.csv.gz\")\n",
        "print(f\"Dataset loaded with {len(dataset)} elements\")\n",
        "print(f\"Sample element:\\n{dataset[0]}\")"
      ]
    },
    {
      "cell_type": "markdown",
      "metadata": {
        "id": "sQqytJIYXq5k"
      },
      "source": [
        "## Transformaciones\n",
        "\n",
        "El ejemplo anterior nos muestra el uso básico, pero claramente no podemos pasarle eso a una red neuronal, no puede manejar texto. Es para eso que tenemos que hacer algún tipo de transformación sobre los atributos (en este caso el único atributo es el texto). "
      ]
    },
    {
      "cell_type": "markdown",
      "metadata": {
        "id": "ZD0xYiFDXq5m"
      },
      "source": [
        "### Normalización\n",
        "\n",
        "En particular, como vemos en el caso anterior, el texto no está normalizado, parte de las transformaciones pueden incluir realizar algún tipo de normalización. Para eso hagamos uso de [`gensim`](https://radimrehurek.com/gensim/index.html), en particular utilizaremos el módulo [`preprocessing`](https://radimrehurek.com/gensim/parsing/preprocessing.html#module-gensim.parsing.preprocessing) que se encargará de hacer varias normalizaciones por defecto"
      ]
    },
    {
      "cell_type": "code",
      "execution_count": 10,
      "metadata": {
        "id": "HvstYuu4Xq5p",
        "outputId": "704f6ba3-de49-45e9-f30c-2c95783edc16",
        "colab": {
          "base_uri": "https://localhost:8080/"
        }
      },
      "outputs": [
        {
          "output_type": "stream",
          "name": "stdout",
          "text": [
            "{'data': ['reviewers', 'mentioned', 'watching', 'episode', 'hooked', 'right', 'exactly', 'happened', 'thing', 'struck', 'brutality', 'unflinching', 'scenes', 'violence', 'set', 'right', 'word', 'trust', 'faint', 'hearted', 'timid', 'pulls', 'punches', 'regards', 'drugs', 'sex', 'violence', 'hardcore', 'classic', 'use', 'word', 'called', 'nickname', 'given', 'oswald', 'maximum', 'security', 'state', 'penitentary', 'focuses', 'mainly', 'emerald', 'city', 'experimental', 'section', 'prison', 'cells', 'glass', 'fronts', 'face', 'inwards', 'privacy', 'high', 'agenda', 'city', 'home', 'aryans', 'muslims', 'gangstas', 'latinos', 'christians', 'italians', 'irish', 'scuffles', 'death', 'stares', 'dodgy', 'dealings', 'shady', 'agreements', 'far', 'away', 'main', 'appeal', 'fact', 'goes', 'shows', 'wouldn', 'dare', 'forget', 'pretty', 'pictures', 'painted', 'mainstream', 'audiences', 'forget', 'charm', 'forget', 'romance', 'mess', 'episode', 'saw', 'struck', 'nasty', 'surreal', 'couldn', 'ready', 'watched', 'developed', 'taste', 'got', 'accustomed', 'high', 'levels', 'graphic', 'violence', 'violence', 'injustice', 'crooked', 'guards', 'sold', 'nickel', 'inmates', 'kill', 'order', 'away', 'mannered', 'middle', 'class', 'inmates', 'turned', 'prison', 'bitches', 'lack', 'street', 'skills', 'prison', 'experience', 'watching', 'comfortable', 'uncomfortable', 'viewing', 'thats', 'touch', 'darker'], 'target': 1}\n"
          ]
        }
      ],
      "source": [
        "class TextPreprocess:\n",
        "    def __init__(self, filters=None):\n",
        "        if filters:\n",
        "            self.filters = filters\n",
        "        else:\n",
        "            self.filters = [\n",
        "                lambda s: s.lower(),\n",
        "                preprocessing.strip_tags,\n",
        "                preprocessing.strip_punctuation,\n",
        "                preprocessing.strip_multiple_whitespaces,\n",
        "                preprocessing.strip_numeric,\n",
        "                preprocessing.remove_stopwords,\n",
        "                preprocessing.strip_short,\n",
        "            ]\n",
        "        \n",
        "    def _preprocess_string(self, string):\n",
        "        return preprocessing.preprocess_string(string, filters=self.filters)\n",
        "\n",
        "    def _encode_target(self, target):\n",
        "        return 1 if target == \"positive\" else 0\n",
        "\n",
        "    def __call__(self, item):\n",
        "        if isinstance(item[\"data\"], str):\n",
        "            data = self._preprocess_string(item[\"data\"])\n",
        "        else:\n",
        "            data = [self._preprocess_string(d) for d in item[\"data\"]]\n",
        "        \n",
        "        if isinstance(item[\"target\"], str):\n",
        "            target = self._encode_target(item[\"target\"])\n",
        "        else:\n",
        "            target = [self._encode_target(t) for t in item[\"target\"]]\n",
        "        \n",
        "        return {\n",
        "            \"data\": data,\n",
        "            \"target\": target\n",
        "        }\n",
        "\n",
        "preprocess = TextPreprocess()\n",
        "print(preprocess(dataset[0]))"
      ]
    },
    {
      "cell_type": "code",
      "source": [
        "dataset[1]"
      ],
      "metadata": {
        "id": "TzhwdjHRXyrS",
        "outputId": "a494b33d-3316-43f0-dabb-7c6081fb4d44",
        "colab": {
          "base_uri": "https://localhost:8080/"
        }
      },
      "execution_count": 11,
      "outputs": [
        {
          "output_type": "execute_result",
          "data": {
            "text/plain": [
              "{'data': 'A wonderful little production. <br /><br />The filming technique is very unassuming- very old-time-BBC fashion and gives a comforting, and sometimes discomforting, sense of realism to the entire piece. <br /><br />The actors are extremely well chosen- Michael Sheen not only \"has got all the polari\" but he has all the voices down pat too! You can truly see the seamless editing guided by the references to Williams\\' diary entries, not only is it well worth the watching but it is a terrificly written and performed piece. A masterful production about one of the great master\\'s of comedy and his life. <br /><br />The realism really comes home with the little things: the fantasy of the guard which, rather than use the traditional \\'dream\\' techniques remains solid then disappears. It plays on our knowledge and our senses, particularly with the scenes concerning Orton and Halliwell and the sets (particularly of their flat with Halliwell\\'s murals decorating every surface) are terribly well done.',\n",
              " 'target': 'positive'}"
            ]
          },
          "metadata": {},
          "execution_count": 11
        }
      ]
    },
    {
      "cell_type": "code",
      "source": [
        "preprocess(dataset[1])"
      ],
      "metadata": {
        "id": "e_6GIPz7YAT7",
        "outputId": "ba938f1f-3e0c-44a0-d190-05af47f12039",
        "colab": {
          "base_uri": "https://localhost:8080/"
        }
      },
      "execution_count": 12,
      "outputs": [
        {
          "output_type": "execute_result",
          "data": {
            "text/plain": [
              "{'data': ['wonderful',\n",
              "  'little',\n",
              "  'production',\n",
              "  'filming',\n",
              "  'technique',\n",
              "  'unassuming',\n",
              "  'old',\n",
              "  'time',\n",
              "  'bbc',\n",
              "  'fashion',\n",
              "  'gives',\n",
              "  'comforting',\n",
              "  'discomforting',\n",
              "  'sense',\n",
              "  'realism',\n",
              "  'entire',\n",
              "  'piece',\n",
              "  'actors',\n",
              "  'extremely',\n",
              "  'chosen',\n",
              "  'michael',\n",
              "  'sheen',\n",
              "  'got',\n",
              "  'polari',\n",
              "  'voices',\n",
              "  'pat',\n",
              "  'truly',\n",
              "  'seamless',\n",
              "  'editing',\n",
              "  'guided',\n",
              "  'references',\n",
              "  'williams',\n",
              "  'diary',\n",
              "  'entries',\n",
              "  'worth',\n",
              "  'watching',\n",
              "  'terrificly',\n",
              "  'written',\n",
              "  'performed',\n",
              "  'piece',\n",
              "  'masterful',\n",
              "  'production',\n",
              "  'great',\n",
              "  'master',\n",
              "  'comedy',\n",
              "  'life',\n",
              "  'realism',\n",
              "  'comes',\n",
              "  'home',\n",
              "  'little',\n",
              "  'things',\n",
              "  'fantasy',\n",
              "  'guard',\n",
              "  'use',\n",
              "  'traditional',\n",
              "  'dream',\n",
              "  'techniques',\n",
              "  'remains',\n",
              "  'solid',\n",
              "  'disappears',\n",
              "  'plays',\n",
              "  'knowledge',\n",
              "  'senses',\n",
              "  'particularly',\n",
              "  'scenes',\n",
              "  'concerning',\n",
              "  'orton',\n",
              "  'halliwell',\n",
              "  'sets',\n",
              "  'particularly',\n",
              "  'flat',\n",
              "  'halliwell',\n",
              "  'murals',\n",
              "  'decorating',\n",
              "  'surface',\n",
              "  'terribly'],\n",
              " 'target': 1}"
            ]
          },
          "metadata": {},
          "execution_count": 12
        }
      ]
    },
    {
      "cell_type": "markdown",
      "metadata": {
        "id": "xV2MwWTsXq5t"
      },
      "source": [
        "### Conversión a vectores\n",
        "\n",
        "Podemos continuar convertiendo el texto en una representación por vectores. Si bien hay muchas posibilidades (siendo la bolsa de palabras una de las más utilizadas), en general para Deep Learning se prefieren representaciones utilizando vectores contínuos, obtenidos por algún método del estilo de Word2Vec, Glove o FastText. Para este caso utilizaremos las representaciones de Glove de dimensión 50 que se dejaron para descargar en el [notebook 0](./0_set_up.ipynb)."
      ]
    },
    {
      "cell_type": "code",
      "source": [
        "!pip install gensim --upgrade "
      ],
      "metadata": {
        "id": "m8yzC3BZanfJ",
        "outputId": "f2c85e84-d247-4be7-e218-63bc026381df",
        "colab": {
          "base_uri": "https://localhost:8080/"
        }
      },
      "execution_count": 5,
      "outputs": [
        {
          "output_type": "stream",
          "name": "stdout",
          "text": [
            "Looking in indexes: https://pypi.org/simple, https://us-python.pkg.dev/colab-wheels/public/simple/\n",
            "Requirement already satisfied: gensim in /usr/local/lib/python3.7/dist-packages (3.6.0)\n",
            "Collecting gensim\n",
            "  Downloading gensim-4.2.0-cp37-cp37m-manylinux_2_12_x86_64.manylinux2010_x86_64.whl (24.1 MB)\n",
            "\u001b[K     |████████████████████████████████| 24.1 MB 1.2 MB/s \n",
            "\u001b[?25hRequirement already satisfied: scipy>=0.18.1 in /usr/local/lib/python3.7/dist-packages (from gensim) (1.7.3)\n",
            "Requirement already satisfied: smart-open>=1.8.1 in /usr/local/lib/python3.7/dist-packages (from gensim) (5.2.1)\n",
            "Requirement already satisfied: numpy>=1.17.0 in /usr/local/lib/python3.7/dist-packages (from gensim) (1.21.6)\n",
            "Installing collected packages: gensim\n",
            "  Attempting uninstall: gensim\n",
            "    Found existing installation: gensim 3.6.0\n",
            "    Uninstalling gensim-3.6.0:\n",
            "      Successfully uninstalled gensim-3.6.0\n",
            "Successfully installed gensim-4.2.0\n"
          ]
        }
      ]
    },
    {
      "cell_type": "code",
      "execution_count": 14,
      "metadata": {
        "id": "5am4v50VXq5w",
        "outputId": "7a6296e4-9ddf-4983-e67b-0919ea891b0a",
        "colab": {
          "base_uri": "https://localhost:8080/"
        }
      },
      "outputs": [
        {
          "output_type": "execute_result",
          "data": {
            "text/plain": [
              "{'data': array([[-0.18105   , -0.79229999, -0.097616  , ...,  1.42859995,\n",
              "         -0.032471  ,  0.47235999],\n",
              "        [ 0.69395   ,  0.69261003, -0.21608   , ...,  0.2247    ,\n",
              "         -0.23197   ,  0.0062523 ],\n",
              "        [-0.0049087 ,  0.12611   ,  0.14056   , ..., -0.58464003,\n",
              "         -0.31830999,  0.31564   ],\n",
              "        ...,\n",
              "        [ 0.25435999, -0.44304001, -0.12524   , ...,  0.73352998,\n",
              "          0.026198  ,  0.30408001],\n",
              "        [-0.058468  ,  0.019087  ,  0.089056  , ..., -0.28176001,\n",
              "          0.045137  , -0.18802001],\n",
              "        [ 0.14443   ,  0.39103001, -0.93454999, ..., -0.71325999,\n",
              "         -0.54575998,  0.13952   ]]), 'target': 1}"
            ]
          },
          "metadata": {},
          "execution_count": 14
        }
      ],
      "source": [
        "class VectorizeText:\n",
        "    def __init__(self, glove_vectors_path):\n",
        "        self.glove_model = KeyedVectors.load_word2vec_format(\"/content/drive/MyDrive/DIPLO_DATOS/glove.6B.50d.txt.gz\",\n",
        "                                                             binary=False, no_header=True)\n",
        "        self.unkown_vector = np.random.randn(self.glove_model.vector_size)  # Random vector for unknown words\n",
        "    \n",
        "    def _get_vector(self, word):\n",
        "        if word in self.glove_model:\n",
        "            return self.glove_model[word]\n",
        "        else:\n",
        "            return self.unkown_vector\n",
        "    \n",
        "    def _get_vectors(self, sentence):\n",
        "        return np.vstack([self._get_vector(word) for word in sentence])\n",
        "    \n",
        "    def __call__(self, item):\n",
        "        review = []\n",
        "        if isinstance(item[\"data\"][0], str):\n",
        "            review = self._get_vectors(item[\"data\"])\n",
        "        else:\n",
        "            review = [self._get_vectors(d) for d in item[\"data\"]]\n",
        "\n",
        "        return {\n",
        "            \"data\": review,\n",
        "            \"target\": item[\"target\"]\n",
        "        }\n",
        "\n",
        "vectorizer = VectorizeText(\"/content/drive/MyDrive/DIPLO_DATOS/glove.6B.50d.txt.gz\")\n",
        "vectorizer(preprocess(dataset[0]))"
      ]
    },
    {
      "cell_type": "markdown",
      "metadata": {
        "id": "JFGiUxSeXq5x"
      },
      "source": [
        "### Combinación de vectores\n",
        "\n",
        "Si bien ahora estamos con una versión de los atributos que podría pasar por una red neuronal, hay un problema, las distintas reviews tienen largo distinto y como el algoritmo se entrena en lotes (*mini-batches*) estas requieren tener todas el mismo largo. Hay varias maneras de lidiar con esto, cada una con sus ventajas y desventajas. Dado que por ahora solo vimos perceptrón multicapa, que espera algo de tamaño fijo, una opción sencilla puede ser la de simplemente promediar los vectores de palabras."
      ]
    },
    {
      "cell_type": "code",
      "execution_count": 15,
      "metadata": {
        "id": "IKT01hg9Xq5y",
        "outputId": "5ace463a-982a-47cb-ca64-04105db34a76",
        "colab": {
          "base_uri": "https://localhost:8080/"
        }
      },
      "outputs": [
        {
          "output_type": "execute_result",
          "data": {
            "text/plain": [
              "{'data': array([ 0.11392873,  0.01126639, -0.12531332, -0.26262102,  0.2671047 ,\n",
              "         0.0603304 , -0.05672802, -0.03585446, -0.15122386,  0.18890972,\n",
              "        -0.21092786, -0.0878156 , -0.14540398, -0.01078587,  0.26998903,\n",
              "         0.01295308,  0.02724838, -0.00719027, -0.131633  , -0.2576076 ,\n",
              "        -0.05534939,  0.31699218,  0.13338708,  0.18708014,  0.10132058,\n",
              "        -1.08588475, -0.35363793,  0.18712463,  0.44626267, -0.17460003,\n",
              "         2.028427  ,  0.14113671, -0.05313083, -0.41163912, -0.07523687,\n",
              "         0.10386484, -0.05572449, -0.15579046, -0.20278573, -0.23940431,\n",
              "        -0.13492219,  0.06878732,  0.06135851,  0.26125413,  0.14199037,\n",
              "         0.00565598, -0.00214863, -0.151335  , -0.02123343, -0.06164718]),\n",
              " 'target': 1}"
            ]
          },
          "metadata": {},
          "execution_count": 15
        }
      ],
      "source": [
        "class WordVectorsAverage:\n",
        "    def __call__(self, item):\n",
        "        if item[\"data\"][0].ndim == 2:\n",
        "            data = np.vstack([np.mean(d, axis=0) for d in item[\"data\"]])\n",
        "        else:\n",
        "            data = np.mean(item[\"data\"], axis=0)\n",
        "        \n",
        "        return {\n",
        "            \"data\": data,\n",
        "            \"target\": item[\"target\"]\n",
        "        }\n",
        "\n",
        "vector_average = WordVectorsAverage()\n",
        "vector_average(vectorizer(preprocess(dataset[0])))"
      ]
    },
    {
      "cell_type": "markdown",
      "metadata": {
        "id": "a60xu_YbXq5z"
      },
      "source": [
        "### Conversión de vectores a tensores\n",
        "\n",
        "En el paso final, debemos convertir nuestros datos de arrays de `numpy` a tensores de PyTorch."
      ]
    },
    {
      "cell_type": "code",
      "execution_count": 16,
      "metadata": {
        "id": "hwNSyWrOXq50",
        "outputId": "4dbb807e-4201-4f91-8157-987abe54c0c1",
        "colab": {
          "base_uri": "https://localhost:8080/"
        }
      },
      "outputs": [
        {
          "output_type": "execute_result",
          "data": {
            "text/plain": [
              "{'data': tensor([ 0.1139,  0.0113, -0.1253, -0.2626,  0.2671,  0.0603, -0.0567, -0.0359,\n",
              "         -0.1512,  0.1889, -0.2109, -0.0878, -0.1454, -0.0108,  0.2700,  0.0130,\n",
              "          0.0272, -0.0072, -0.1316, -0.2576, -0.0553,  0.3170,  0.1334,  0.1871,\n",
              "          0.1013, -1.0859, -0.3536,  0.1871,  0.4463, -0.1746,  2.0284,  0.1411,\n",
              "         -0.0531, -0.4116, -0.0752,  0.1039, -0.0557, -0.1558, -0.2028, -0.2394,\n",
              "         -0.1349,  0.0688,  0.0614,  0.2613,  0.1420,  0.0057, -0.0021, -0.1513,\n",
              "         -0.0212, -0.0616], dtype=torch.float64), 'target': tensor(1)}"
            ]
          },
          "metadata": {},
          "execution_count": 16
        }
      ],
      "source": [
        "class ToTensor:\n",
        "    def __call__(self, item):\n",
        "        \"\"\"\n",
        "        This espects a single array.\n",
        "        \"\"\"\n",
        "        return {\n",
        "            \"data\": torch.from_numpy(item[\"data\"]),\n",
        "            \"target\": torch.tensor(item[\"target\"])\n",
        "        }\n",
        "\n",
        "to_tensor = ToTensor()\n",
        "to_tensor(vector_average(vectorizer(preprocess(dataset[0]))))"
      ]
    },
    {
      "cell_type": "markdown",
      "metadata": {
        "id": "dg69fK2hXq51"
      },
      "source": [
        "### Componiendo las transformaciones\n",
        "\n",
        "Para evitar tener que llamar a todas las funciones de transformación que querramos aplicar, para ello hacemos uso del parámetro `transform` que definimos en nuestro `Dataset` y un poco de ayuda de `functools`."
      ]
    },
    {
      "cell_type": "code",
      "execution_count": 17,
      "metadata": {
        "id": "x3VbTMijXq51",
        "outputId": "9b81fc21-12a5-4462-d42d-aa8d28ce9fbb",
        "colab": {
          "base_uri": "https://localhost:8080/"
        }
      },
      "outputs": [
        {
          "output_type": "stream",
          "name": "stdout",
          "text": [
            "Dataset loaded with 50000 elements\n",
            "Sample element:\n",
            "{'data': tensor([ 0.1139,  0.0113, -0.1253, -0.2626,  0.2671,  0.0603, -0.0567, -0.0359,\n",
            "        -0.1512,  0.1889, -0.2109, -0.0878, -0.1454, -0.0108,  0.2700,  0.0130,\n",
            "         0.0272, -0.0072, -0.1316, -0.2576, -0.0553,  0.3170,  0.1334,  0.1871,\n",
            "         0.1013, -1.0859, -0.3536,  0.1871,  0.4463, -0.1746,  2.0284,  0.1411,\n",
            "        -0.0531, -0.4116, -0.0752,  0.1039, -0.0557, -0.1558, -0.2028, -0.2394,\n",
            "        -0.1349,  0.0688,  0.0614,  0.2613,  0.1420,  0.0057, -0.0021, -0.1513,\n",
            "        -0.0212, -0.0616], dtype=torch.float64), 'target': tensor(1)}\n"
          ]
        }
      ],
      "source": [
        "def compose(*functions):\n",
        "    return functools.reduce(lambda f, g: lambda x: g(f(x)), functions, lambda x: x)\n",
        "\n",
        "dataset = IMDBReviewsDataset(\"/content/drive/MyDrive/DIPLO_DATOS/imdb_reviews.csv.gz\",\n",
        "                             transform=compose(preprocess, vectorizer, vector_average, to_tensor))\n",
        "print(f\"Dataset loaded with {len(dataset)} elements\")\n",
        "print(f\"Sample element:\\n{dataset[0]}\")"
      ]
    },
    {
      "cell_type": "markdown",
      "metadata": {
        "id": "GXjkol1nXq52"
      },
      "source": [
        "### Iterando el dataset\n",
        "\n",
        "Ya tenemos nuestro conjunto de datos con sus respectivas transformaciones. ¿Para qué nos sirve esto? Una opción es simplemente iterar en el conjunto de datos de a un elemento. Esto es sencillo, simplemente se hace a través de un `for`."
      ]
    },
    {
      "cell_type": "code",
      "execution_count": 18,
      "metadata": {
        "id": "HexVgydlXq53",
        "outputId": "2e00348b-f7e1-4cfb-a635-1c0cf7b464d1",
        "colab": {
          "base_uri": "https://localhost:8080/"
        }
      },
      "outputs": [
        {
          "output_type": "stream",
          "name": "stdout",
          "text": [
            "tensor([ 0.1139,  0.0113, -0.1253, -0.2626,  0.2671,  0.0603, -0.0567, -0.0359,\n",
            "        -0.1512,  0.1889, -0.2109, -0.0878, -0.1454, -0.0108,  0.2700,  0.0130,\n",
            "         0.0272, -0.0072, -0.1316, -0.2576, -0.0553,  0.3170,  0.1334,  0.1871,\n",
            "         0.1013, -1.0859, -0.3536,  0.1871,  0.4463, -0.1746,  2.0284,  0.1411,\n",
            "        -0.0531, -0.4116, -0.0752,  0.1039, -0.0557, -0.1558, -0.2028, -0.2394,\n",
            "        -0.1349,  0.0688,  0.0614,  0.2613,  0.1420,  0.0057, -0.0021, -0.1513,\n",
            "        -0.0212, -0.0616], dtype=torch.float64)\n",
            "tensor(1)\n",
            "==================================================\n",
            "tensor([ 0.0973,  0.1677, -0.4141, -0.1020,  0.3493,  0.1831, -0.2603, -0.1201,\n",
            "        -0.1452,  0.3607, -0.0804,  0.2755, -0.1421,  0.1363,  0.2668, -0.0615,\n",
            "         0.1036,  0.1077, -0.1338, -0.3833,  0.0918,  0.3751,  0.0076,  0.0359,\n",
            "         0.3707, -0.7851, -0.5731,  0.1247,  0.4316, -0.1730,  2.0905, -0.1258,\n",
            "         0.0899, -0.4389,  0.0269,  0.3091, -0.0243,  0.2711, -0.2218, -0.3285,\n",
            "         0.1263,  0.1229, -0.1221,  0.0448, -0.0204,  0.0761,  0.2057, -0.1226,\n",
            "        -0.1533,  0.1991], dtype=torch.float64)\n",
            "tensor(1)\n",
            "==================================================\n",
            "tensor([ 0.1156,  0.1620, -0.2226, -0.2110,  0.4136,  0.2142, -0.2768, -0.1253,\n",
            "        -0.2487,  0.3100, -0.1870,  0.1175, -0.2071,  0.2026,  0.3963, -0.0145,\n",
            "         0.1064,  0.1892, -0.3575, -0.2874, -0.0762,  0.4070,  0.1601,  0.1652,\n",
            "         0.3301, -1.0604, -0.4467,  0.1917,  0.4583, -0.2003,  1.9967,  0.2179,\n",
            "         0.0460, -0.2379,  0.0279,  0.1072, -0.1289,  0.1671, -0.2856, -0.4432,\n",
            "        -0.0877,  0.1785, -0.0697,  0.0857,  0.1390,  0.0088,  0.0788, -0.3161,\n",
            "        -0.1101,  0.2739])\n",
            "tensor(1)\n",
            "==================================================\n"
          ]
        }
      ],
      "source": [
        "for idx, sample in enumerate(dataset):\n",
        "    print(sample[\"data\"])\n",
        "    print(sample[\"target\"])\n",
        "    print(\"=\" * 50)\n",
        "    \n",
        "    if idx == 2:\n",
        "        break"
      ]
    },
    {
      "cell_type": "markdown",
      "metadata": {
        "id": "D1o8QYLvXq53"
      },
      "source": [
        "## La clase Dataloader\n",
        "\n",
        "El problema con iterar de a un elemento es que estamos limitados al querer entrenar un modelo. Por empezar, los modelos de Deep Learning suelen ser más eficientes si se entrenan utilizando algún tipo de entrenamiento por *mini-batches*. Además, hay otras cosas como mezclar los elementos (*shuffling*) o cargar datos en paralelo vía distintos *multiprocess workers*. La clase [`torch.utils.data.DataLoader`](https://pytorch.org/docs/stable/data.html#torch.utils.data.DataLoader) precisamente se encarga de hacer eso por nosotros:"
      ]
    },
    {
      "cell_type": "code",
      "execution_count": 19,
      "metadata": {
        "id": "uBzSLCMdXq54",
        "outputId": "a698e85b-6a78-4d59-f4cc-4272e64d70b5",
        "colab": {
          "base_uri": "https://localhost:8080/"
        }
      },
      "outputs": [
        {
          "output_type": "stream",
          "name": "stdout",
          "text": [
            "0 torch.Size([4, 50]) torch.Size([4])\n",
            "1 torch.Size([4, 50]) torch.Size([4])\n",
            "2 torch.Size([4, 50]) torch.Size([4])\n",
            "tensor([[ 7.5445e-02,  1.4737e-01, -2.6046e-02, -5.4799e-02,  1.5319e-01,\n",
            "          2.0545e-01, -4.8994e-01,  2.1197e-02, -3.3329e-02,  2.7525e-01,\n",
            "         -3.5378e-03,  1.7694e-01, -2.3254e-01,  1.3706e-01,  6.1033e-01,\n",
            "          5.0111e-03,  1.4651e-01,  2.1230e-01, -3.3609e-01, -2.4830e-01,\n",
            "          2.6905e-01,  3.7206e-01,  1.9186e-01,  2.4245e-01,  2.3919e-01,\n",
            "         -1.2266e+00, -4.1710e-01, -1.9385e-02,  1.9557e-01, -2.2143e-01,\n",
            "          2.3456e+00, -1.6921e-03, -9.2842e-02, -3.9659e-01, -1.5157e-02,\n",
            "          1.6227e-01,  5.2807e-02, -1.0371e-01, -6.9218e-02, -3.8557e-01,\n",
            "         -7.7057e-02,  1.6551e-01, -8.7824e-02, -9.6049e-02, -6.6318e-02,\n",
            "          5.4025e-03, -1.3016e-01, -2.6332e-01, -6.6194e-02,  3.9274e-02],\n",
            "        [ 1.9271e-01,  1.0231e-01, -1.0935e-01, -2.0108e-01,  4.7889e-01,\n",
            "          1.8703e-01, -2.8711e-01,  1.3726e-01, -1.5207e-01,  1.8212e-01,\n",
            "         -1.2495e-01,  9.3659e-02, -2.8264e-01,  9.4163e-02,  5.0305e-01,\n",
            "          6.1356e-02,  7.5475e-02,  9.6812e-02, -1.8761e-01, -2.7986e-01,\n",
            "         -9.0703e-02,  4.7085e-01,  1.2267e-01,  1.7758e-01,  4.1363e-01,\n",
            "         -1.1746e+00, -4.4257e-01,  1.2515e-01,  4.6293e-01, -2.4291e-01,\n",
            "          2.1110e+00,  2.3858e-01, -9.6257e-02, -3.5964e-01, -2.4541e-02,\n",
            "          5.5983e-02, -3.8287e-02,  3.5944e-02,  3.2485e-03, -4.1497e-01,\n",
            "         -2.0411e-01,  7.7043e-02, -9.6975e-02,  1.2450e-01,  4.8116e-02,\n",
            "         -4.1303e-02,  1.0424e-01, -1.5494e-01,  2.1995e-02,  2.5140e-01],\n",
            "        [ 1.4489e-01, -1.3482e-01, -1.2574e-01,  6.4860e-02, -2.3243e-02,\n",
            "          8.3661e-02, -3.3882e-01, -1.8497e-01, -5.0970e-02,  3.4793e-01,\n",
            "         -1.9691e-01,  4.0294e-01, -2.3836e-01,  9.2066e-02,  1.6153e-01,\n",
            "         -1.9201e-01,  1.3386e-01,  3.8005e-01, -2.7337e-01, -3.5430e-01,\n",
            "          8.0231e-02,  2.3295e-01,  6.2232e-02,  1.8386e-01, -3.1486e-02,\n",
            "         -8.8780e-01, -4.8770e-01,  1.6734e-01,  6.2756e-01, -4.4938e-01,\n",
            "          1.8171e+00, -2.3104e-02, -1.3073e-01, -3.1135e-01, -4.2680e-02,\n",
            "          9.8342e-02,  1.9509e-01, -1.3252e-01, -2.2084e-02, -3.2541e-01,\n",
            "         -1.6805e-01,  9.8469e-02,  1.8948e-03, -1.7384e-01,  9.0169e-02,\n",
            "          1.2864e-01, -1.2327e-01, -4.9438e-01,  8.7673e-02,  1.6934e-01],\n",
            "        [ 6.0204e-02,  1.8828e-01, -2.7581e-01, -6.4679e-02,  1.0437e-01,\n",
            "          1.1551e-01, -3.2998e-01, -2.1754e-01, -1.7189e-01,  5.2164e-01,\n",
            "         -1.8262e-01,  1.4964e-01, -3.3851e-01,  2.0455e-01,  5.8701e-01,\n",
            "         -1.5491e-01,  1.6036e-01,  5.1227e-02, -3.1778e-01, -2.4793e-01,\n",
            "          2.1551e-01,  2.8288e-01,  1.2511e-01,  9.2891e-02,  2.3909e-01,\n",
            "         -1.0705e+00, -7.7612e-01, -6.9264e-02,  2.2153e-02, -3.1668e-02,\n",
            "          2.5243e+00,  3.8809e-02,  1.8505e-01, -4.7850e-01,  2.8543e-02,\n",
            "          1.1173e-01, -4.8476e-02,  2.3357e-01, -3.5801e-01, -5.3388e-01,\n",
            "         -1.0536e-01,  1.7814e-01, -9.6327e-02,  7.1295e-02, -2.1156e-01,\n",
            "          4.7885e-02,  8.1864e-02,  1.4832e-01, -1.4590e-01,  2.7198e-01]])\n",
            "tensor([0, 0, 1, 1])\n"
          ]
        }
      ],
      "source": [
        "dataloader = DataLoader(\n",
        "    dataset,\n",
        "    batch_size=4,\n",
        "    shuffle=True,\n",
        "    num_workers=2\n",
        ")\n",
        "\n",
        "for i_batch, sample_batched in enumerate(dataloader):\n",
        "    print(i_batch, \n",
        "          sample_batched['data'].size(),\n",
        "          sample_batched['target'].size())\n",
        "\n",
        "    if i_batch == 2:\n",
        "        print(sample_batched[\"data\"])\n",
        "        print(sample_batched[\"target\"])\n",
        "        break"
      ]
    },
    {
      "cell_type": "markdown",
      "metadata": {
        "id": "UvzGmPD0Xq55"
      },
      "source": [
        "## La clase IterableDataset\n",
        "\n",
        "El método preferido para trabajar con conjuntos de datos en PyTorch es `torch.utils.data.Dataset`. En general, hacer uso inteligente del método `__getitem__`, e.g. usándolo para cargar imágenes a medida que sean necesitadas y no al instanciar el dataset, es la mejor manera de trabajar con un conjunto de datos. En particular, de esta forma es mucho más fácil hacer *shuffling* de los datos y demás. No obstante, no siempre esto es posible, muchas veces el conjunto de datos es demasiado grande para levantarlo en memoria (aunque sólo levantemos referencias). Para esos casos, PyTorch ofrece la clase [`torch.utils.data.IterableDataset`](https://pytorch.org/docs/stable/data.html#torch.utils.data.IterableDataset), en este caso el único método que es requerido implementar es `__iter__`."
      ]
    },
    {
      "cell_type": "code",
      "execution_count": null,
      "metadata": {
        "id": "BoMuH47CXq57"
      },
      "outputs": [],
      "source": [
        "class MeLiChallengeDataset(IterableDataset):\n",
        "    def __init__(self, path, transform=None):\n",
        "        self.dataset_path = path\n",
        "        self.transform = transform\n",
        "\n",
        "    def __iter__(self):\n",
        "        with gzip.open(self.dataset_path, \"rt\") as fh:\n",
        "            csv_reader = csv.reader(fh)\n",
        "            _ = next(csv_reader)  # Remove the header\n",
        "            for (_, _, title, category) in csv_reader:\n",
        "                item = {\n",
        "                    \"data\": title,\n",
        "                    \"target\": category\n",
        "                }\n",
        "                \n",
        "                if self.transform:\n",
        "                    yield self.transform(item)\n",
        "                else:\n",
        "                    yield item\n",
        "\n",
        "dataset = MeLiChallengeDataset(\"./data/meli-challenge-2019/spanish.train.csv.gz\")\n",
        "dataloader = DataLoader(dataset, batch_size=4, shuffle=False, num_workers=0)\n",
        "dataiter = iter(dataloader)\n",
        "print(f\"Sample batch:\\n{dataiter.next()}\")"
      ]
    }
  ],
  "metadata": {
    "celltoolbar": "Slideshow",
    "kernelspec": {
      "display_name": "Python 3 (ipykernel)",
      "language": "python",
      "name": "python3"
    },
    "language_info": {
      "codemirror_mode": {
        "name": "ipython",
        "version": 3
      },
      "file_extension": ".py",
      "mimetype": "text/x-python",
      "name": "python",
      "nbconvert_exporter": "python",
      "pygments_lexer": "ipython3",
      "version": "3.8.5"
    },
    "rise": {
      "scroll": true
    },
    "colab": {
      "provenance": []
    },
    "accelerator": "GPU"
  },
  "nbformat": 4,
  "nbformat_minor": 0
}